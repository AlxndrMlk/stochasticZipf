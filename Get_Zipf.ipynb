{
 "cells": [
  {
   "cell_type": "code",
   "execution_count": 1,
   "metadata": {},
   "outputs": [],
   "source": [
    "import numpy as np\n",
    "import matplotlib.pyplot as plt\n",
    "plt.style.use('seaborn')\n",
    "\n",
    "from scipy import stats as stats"
   ]
  },
  {
   "cell_type": "markdown",
   "metadata": {},
   "source": [
    "# Zipf's distribution from stochastic process\n",
    "\n",
    "<br>\n",
    "\n",
    "### 0. Who is Zipf?\n",
    "\n",
    "<br>\n",
    "\n",
    "<img src = \"https://upload.wikimedia.org/wikipedia/commons/c/c6/George_Kingsley_Zipf_1917.jpg\" width=120px/>\n",
    "\n",
    "<br>\n",
    "\n",
    "* **George Kingsley Zipf** (/ˈzɪf/;[1] 1902–1950), was an American linguist and philologist who studied statistical occurrences in different languages.\n",
    "<br>\n",
    "<br>\n",
    "(source: https://en.wikipedia.org/wiki/George_Kingsley_Zipf)\n",
    "\n",
    "<br>\n",
    "\n",
    "### 1. What is Zipf's distribution?\n",
    "\n",
    "* **Zipf's law**:\n",
    "<br>\n",
    "<br>\n",
    "*\"Zipf's law states that given some corpus of natural language utterances, the frequency of any word is inversely proportional to its rank in the frequency table.\"* \n",
    "<br>\n",
    "<br>\n",
    "(source: https://en.wikipedia.org/wiki/Zipf%27s_law)\n",
    "\n",
    "<br>\n",
    "\n",
    "* **Zipf's distribution** (or statistic) is a discrete power law probability distribution which is well approximated (on a log-log scale) by a straight line with a slope around −1\n",
    "<br>\n",
    "<br>\n",
    "(https://en.wikipedia.org/wiki/Zipf%27s_law)\n",
    "\n",
    "<br>\n",
    "\n",
    "### 2. Critique of Zipf's Law as an indicator of semantic structure\n",
    "\n",
    "In Ryuji Suzuki, John R.Buck, Peter L.Tyack (2004) \"The use of Zipf's law in animal communication analysis\" authors state that:\n",
    "\n",
    "*\"(...) a stochastic process devoid of semantic or communicative content may still satisfy Zipf's law\"* \n",
    "\n",
    "<br>\n",
    "\n",
    "### 3. The goal of this notebook\n",
    "\n",
    "This notebook is an attempt to replicate a production of Zipf distribution using stochastic process. It is based on dice example proposed by Suzuki et al. (2004) inspired by another analysis by Li (1992).\n",
    "\n",
    "<br>\n",
    "\n",
    "### 4. Let's go! \n",
    "\n",
    "* First, let's define a dice to roll:"
   ]
  },
  {
   "cell_type": "code",
   "execution_count": 2,
   "metadata": {},
   "outputs": [],
   "source": [
    "dice = np.arange(1,7)                              # Define a dice"
   ]
  },
  {
   "cell_type": "markdown",
   "metadata": {},
   "source": [
    "* Now we ready to dive deeper!\n",
    "\n",
    "According to Suzuki et al. the procedure goes as follows:\n",
    "\n",
    "*\"We roll a fair cubic die repeatedly. We treat the number resulting from each roll as a letter, which we write down after each roll. We arbitrarily choose 6 to represent a space forming the break between successive words.\"*"
   ]
  },
  {
   "cell_type": "code",
   "execution_count": 3,
   "metadata": {},
   "outputs": [],
   "source": [
    "utterance = np.zeros(10000)                        # Create an empty array"
   ]
  },
  {
   "cell_type": "markdown",
   "metadata": {},
   "source": [
    "* Let's roll!"
   ]
  },
  {
   "cell_type": "code",
   "execution_count": 4,
   "metadata": {},
   "outputs": [],
   "source": [
    "for i in range(10000):                             # Roll a dice 10000 times\n",
    "    utterance[i] = np.random.choice(dice)          # ...and save the result"
   ]
  },
  {
   "cell_type": "markdown",
   "metadata": {},
   "source": [
    "* Now, let's construct the utterance, and then clean it a bit"
   ]
  },
  {
   "cell_type": "code",
   "execution_count": 5,
   "metadata": {
    "scrolled": false
   },
   "outputs": [],
   "source": [
    "utterance = ''.join(map(str,map(int,utterance)))   # Join the letters to cnstrct the utterance"
   ]
  },
  {
   "cell_type": "code",
   "execution_count": 6,
   "metadata": {},
   "outputs": [],
   "source": [
    "# Split the words (whitespace symbolized by '6')\n",
    "utterance = utterance.split('6')"
   ]
  },
  {
   "cell_type": "code",
   "execution_count": 7,
   "metadata": {},
   "outputs": [],
   "source": [
    "# Filter-out whitespaces\n",
    "words = np.array(list(filter(lambda x: len(x) > 0, utterance)))"
   ]
  },
  {
   "cell_type": "markdown",
   "metadata": {},
   "source": [
    "* Let's count occurences of unique words and their frequencies"
   ]
  },
  {
   "cell_type": "code",
   "execution_count": 8,
   "metadata": {},
   "outputs": [],
   "source": [
    "# Count unique words and their frequencies\n",
    "labels, values = np.unique(words, return_counts=True)\n",
    "\n",
    "values = np.array(values) / len(words)"
   ]
  },
  {
   "cell_type": "code",
   "execution_count": 9,
   "metadata": {},
   "outputs": [],
   "source": [
    "# Sort the values from the most frequent to the least frequent\n",
    "indexes_sorted = np.argsort(values)[::-1]      "
   ]
  },
  {
   "cell_type": "code",
   "execution_count": 10,
   "metadata": {},
   "outputs": [],
   "source": [
    "# Rearrange the data\n",
    "labels = np.array(labels)[indexes_sorted]\n",
    "values = np.array(values)[indexes_sorted]\n",
    "\n",
    "# Produce indexes\n",
    "indexes = np.arange(len(labels))"
   ]
  },
  {
   "cell_type": "markdown",
   "metadata": {},
   "source": [
    "* Some more theory and we're ready to plot!\n",
    "\n",
    "*\"Zipf (1949) observed that, for many human languages, a plot of the frequency of words against the rank of occurrence on doubly logarithmic axes (log frequency versus log rank) is well approximated by a straight line with a slope around −1\"* (Suzuki et al., 2005)\n",
    "\n",
    "<br>\n",
    "\n",
    "* As further proposed by Suzuki et al. (2005):\n",
    "\n",
    "*\"Our straight line fitting the rank–frequency data is in the form:*\n",
    "\n",
    "<br> \n",
    "$$p(r) = cr^{\\alpha}$$\n",
    "\n",
    "*where (...):*\n",
    "<br>\n",
    "\n",
    "$$\\alpha = -\\frac{log6}{log5}$$\n",
    "\n",
    "*and*\n",
    "\n",
    "$$c = \\frac{1}{\\sum_{r=1}^{\\infty}r^{-\\frac{log6}{log5}}}$$\n",
    "\n",
    "*(...)*\n",
    "\n",
    "*In this expression, we see that α, the power of the rank, is −log 6/log 5, which is approximately −1.11. This α will be the slope when the data are plotted on doubly logarithmic axes\"* (Suzuki et al., 2005)\n",
    "\n",
    "<br>\n",
    "\n",
    "* Let's recreate this!"
   ]
  },
  {
   "cell_type": "code",
   "execution_count": 11,
   "metadata": {},
   "outputs": [],
   "source": [
    "# Produce theoretical line fit\n",
    "line_x = np.arange(1,len(values))\n",
    "\n",
    "alpha = (-np.log(6) / np.log(5))\n",
    "\n",
    "line_y = (1 / sum(line_x**alpha)) * line_x**alpha"
   ]
  },
  {
   "cell_type": "code",
   "execution_count": 16,
   "metadata": {
    "scrolled": false
   },
   "outputs": [
    {
     "data": {
      "image/png": "[encoded data removed]",
      "text/plain": [
       "<matplotlib.figure.Figure at 0xafa1710>"
      ]
     },
     "metadata": {},
     "output_type": "display_data"
    }
   ],
   "source": [
    "# Visualize\n",
    "plt.figure(figsize=(9.7, 6))\n",
    "plt.scatter(indexes, values, alpha=.5, label='Empirical')\n",
    "plt.plot(line_x, line_y, color='black', alpha=.5, label=\"Zipf's slope\")\n",
    "plt.xscale('log')\n",
    "plt.yscale('log')\n",
    "plt.xlabel(\"Word length's rank\")\n",
    "plt.ylabel('Frequency of occurences')\n",
    "plt.suptitle(\"Zipf's slope for $n$ dice rolls\", fontsize='18')\n",
    "plt.title(\"$n = 10,000$\", alpha=.7)\n",
    "plt.legend()\n",
    "plt.show()"
   ]
  },
  {
   "cell_type": "markdown",
   "metadata": {},
   "source": [
    "* So, what do you think? How does the plot look for you?"
   ]
  },
  {
   "cell_type": "markdown",
   "metadata": {},
   "source": [
    "### 5. References\n",
    "\n",
    "* Li, W. (1992). Random Texts Exhibit Zipfs-Law-Like Word Frequency Distribution. IEEE Transactions on Information Theory, 38(6), 1842–1845. https://doi.org/10.1109/18.165464\n",
    "\n",
    "* Suzuki, R., Buck, J. R., & Tyack, P. L. (2005). The use of Zipf’s law in animal communication analysis. Animal Behaviour, 69(1), F9–F17. https://doi.org/10.1016/j.anbehav.2004.08.004\n",
    "\n",
    "* Zipf, G. K. (1949). Human Behavior and the Principle of Least Effort. Addisson-Wesley Press, Cambridge, 6(3), 573.\n",
    "\n",
    "* https://en.wikipedia.org/wiki/Zipf%27s_law\n",
    "\n",
    "Another interesting perspective on Zipf's Law can be found here:\n",
    "\n",
    "* McCowan, B., Doyle, L. R., Jenkins, J. M., & Hanser, S. F. (2005). The appropriate use of Zipf’s law in animal communication studies. Animal Behaviour, 69(1), F1–F7. https://doi.org/10.1016/j.anbehav.2004.09.002\n"
   ]
  },
  {
   "cell_type": "markdown",
   "metadata": {},
   "source": [
    "### 6. Contact me\n",
    "\n",
    "I'd love to hear your **comments**!\n",
    "\n",
    "Feel free to contact me at: aleksander.molak (at) gmail.com\n",
    "\n",
    "_____________\n",
    "\n",
    "MIT License, Aleksander Molak, 2018 "
   ]
  }
 ],
 "metadata": {
  "kernelspec": {
   "display_name": "Python 3",
   "language": "python",
   "name": "python3"
  },
  "language_info": {
   "codemirror_mode": {
    "name": "ipython",
    "version": 3
   },
   "file_extension": ".py",
   "mimetype": "text/x-python",
   "name": "python",
   "nbconvert_exporter": "python",
   "pygments_lexer": "ipython3",
   "version": "3.6.4"
  }
 },
 "nbformat": 4,
 "nbformat_minor": 2
}
